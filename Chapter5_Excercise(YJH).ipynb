{
  "nbformat": 4,
  "nbformat_minor": 0,
  "metadata": {
    "colab": {
      "provenance": [],
      "authorship_tag": "ABX9TyMZCihTVmL/cRE4wu4Gas5y",
      "include_colab_link": true
    },
    "kernelspec": {
      "name": "python3",
      "display_name": "Python 3"
    },
    "language_info": {
      "name": "python"
    }
  },
  "cells": [
    {
      "cell_type": "markdown",
      "metadata": {
        "id": "view-in-github",
        "colab_type": "text"
      },
      "source": [
        "<a href=\"https://colab.research.google.com/github/JungHungYun/machinelearning_homework_ksnu/blob/main/Chapter5_Excercise(YJH).ipynb\" target=\"_parent\"><img src=\"https://colab.research.google.com/assets/colab-badge.svg\" alt=\"Open In Colab\"/></a>"
      ]
    },
    {
      "cell_type": "code",
      "execution_count": null,
      "metadata": {
        "id": "PREPjop5SRT_",
        "colab": {
          "base_uri": "https://localhost:8080/"
        },
        "outputId": "c67fa015-7450-4a81-fbf7-bfd4e91853e2"
      },
      "outputs": [
        {
          "output_type": "stream",
          "name": "stdout",
          "text": [
            "유클리드 거리:  3.605551275463989\n"
          ]
        }
      ],
      "source": [
        "# Chapter 5\n",
        "# 1. 그래프의 두 점 A,B에 대해 다음 물음에 답하시오.\n",
        "\n",
        "# (1) 유클리드 거리를 구하시오\n",
        "import math\n",
        "import numpy as np\n",
        "\n",
        "A = (1, 4)\n",
        "B = (4, 2)\n",
        "\n",
        "euclidean_dist = math.sqrt((A[0]-B[0])**2+(A[1]-B[1])**2)\n",
        "\n",
        "print(f\"유클리드 거리: \", euclidean_dist)"
      ]
    },
    {
      "cell_type": "code",
      "source": [
        "# (2) 맨하탄 거리를 구하시오\n",
        "\n",
        "manhattan_dist = abs(A[0] - B[0]) + abs(A[1] - B[1])\n",
        "\n",
        "print(f\"맨하탄 거리 : \", manhattan_dist)"
      ],
      "metadata": {
        "colab": {
          "base_uri": "https://localhost:8080/"
        },
        "id": "ug6f4bio8EDx",
        "outputId": "6d5d5981-c715-41da-dd89-0d7c00278fa6"
      },
      "execution_count": null,
      "outputs": [
        {
          "output_type": "stream",
          "name": "stdout",
          "text": [
            "맨하탄 거리 :  5\n"
          ]
        }
      ]
    },
    {
      "cell_type": "code",
      "source": [
        "# (3) 차수가 1일때, 민코브스키 거리를 구하시오. 맨하탄 거리와 비교하시오.\n",
        "n1 = 1 #차수 1\n",
        "minkowski_dist_1 = (abs(A[0] - B[0])**n1 + abs(A[1] - B[1])**n1)**(1/n1)\n",
        "print(f\"민코브스키 거리(1차) : \",minkowski_dist_1)\n",
        "print(\"맨하탄 거리와 동일\")"
      ],
      "metadata": {
        "colab": {
          "base_uri": "https://localhost:8080/"
        },
        "id": "abIoZ-wh3r8r",
        "outputId": "4585c58f-8dbc-4ab3-fdfd-9fe6ab74ef62"
      },
      "execution_count": null,
      "outputs": [
        {
          "output_type": "stream",
          "name": "stdout",
          "text": [
            "민코브스키 거리(1차) :  5.0\n",
            "맨하탄 거리와 동일\n"
          ]
        }
      ]
    },
    {
      "cell_type": "code",
      "source": [
        "# (4) 차수가 2일 때, 민코브스키 거리를 구하시오. 유클리드 거리와 비교하시오.\n",
        "\n",
        "n2 = 2 #차수 2\n",
        "minkowski_dist_2 = (abs(A[0] - B[0])**n2 + abs(A[1] - B[1])**n2)**(1/n2)\n",
        "print(f\"민코브스키 거리(2차) : \",minkowski_dist_2)\n",
        "print(\"유클리드 거리와 동일\")"
      ],
      "metadata": {
        "colab": {
          "base_uri": "https://localhost:8080/"
        },
        "id": "fHSVCdWE3zJ-",
        "outputId": "30a59bbc-f35c-4820-cf64-e682bd86443f"
      },
      "execution_count": null,
      "outputs": [
        {
          "output_type": "stream",
          "name": "stdout",
          "text": [
            "민코브스키 거리(2차) :  3.605551275463989\n",
            "유클리드 거리와 동일\n"
          ]
        }
      ]
    },
    {
      "cell_type": "code",
      "source": [
        "# (5) 코사인 유사도를 계산하시오.\n",
        "\n",
        "dot_product = np.dot(A, B)\n",
        "mag_A = np.linalg.norm(A)\n",
        "mag_B = np.linalg.norm(B)\n",
        "cosine_sim = dot_product / (mag_A * mag_B)\n",
        "print(f\"코사인 유사도 : \",cosine_sim)"
      ],
      "metadata": {
        "colab": {
          "base_uri": "https://localhost:8080/"
        },
        "id": "cTXieAAI34z6",
        "outputId": "09e474cb-d294-4587-ba7d-6157d96c9181"
      },
      "execution_count": null,
      "outputs": [
        {
          "output_type": "stream",
          "name": "stdout",
          "text": [
            "코사인 유사도 :  0.6507913734559685\n"
          ]
        }
      ]
    },
    {
      "cell_type": "code",
      "source": [
        "# 2. 테스트 데이터의 입력 변수가 (X_1, X_2) = (30,6)일 때, 다음 기존 개체들과의 유클리드 거리를 구하고, K=3에 대한 최근접 이웃으로 분류 및 회귀분석을 하시오. 단, 목표변수는 분류문제에서는 y_1, 회귀분석에서는 y_2를 사용하시오.\n",
        "\n",
        "import numpy as np\n",
        "from sklearn.preprocessing import StandardScaler\n",
        "from sklearn.neighbors import KNeighborsClassifier\n",
        "from sklearn.neighbors import KNeighborsRegressor\n",
        "import matplotlib.pyplot as plt\n",
        "\n",
        "X = np.array([\n",
        "    [10, 8],\n",
        "    [20, 4],\n",
        "    [20, 6],\n",
        "    [40, 4],\n",
        "    [50, 8]])\n",
        "y_1 = [\"A\", \"A\", \"A\", \"B\", \"B\"]\n",
        "y_2 = [100, 60, 50, 40, 100]\n",
        "\n",
        "test_data = np.array([30, 6]).reshape(1, -1)\n",
        "\n",
        "distances = np.sqrt((X[:,0]-test_data[0, 0])**2+(X[:,1]-test_data[0 ,1]))\n",
        "print(f\"입력 변수와 기존 개체들 간의 유클리드거리 : \", distances)\n",
        "\n",
        "scaler = StandardScaler()\n",
        "X_scaled = scaler.fit_transform(X)\n",
        "test_data_scaled = scaler.transform(test_data)\n",
        "\n",
        "K = 3\n",
        "\n",
        "# 분류문제 (y_1)\n",
        "\n",
        "knn_c = KNeighborsClassifier(n_neighbors=K)\n",
        "knn_c.fit(X_scaled, y_1)\n",
        "y_1_pred = knn_c.predict(test_data_scaled)\n",
        "print(f\"\\n입력 변수의 y_1 : \", y_1_pred)\n",
        "\n",
        "# 회귀문제 (y_2)\n",
        "\n",
        "knn_r = KNeighborsRegressor(n_neighbors=K)\n",
        "knn_r.fit(X_scaled, y_2)\n",
        "y_2_pred = knn_r.predict(test_data_scaled)\n",
        "print(f\"\\n입력 변수의 y_2 : \", y_2_pred)\n",
        "\n",
        "# 그래프\n",
        "plt.scatter(X[:, 0], X[:, 1], c='blue', label='Data')\n",
        "plt.scatter(test_data[0, 0], test_data[0, 1], c='red', label='Input X')\n",
        "plt.xlabel('X_1')\n",
        "plt.ylabel('X_2')\n",
        "plt.legend()\n",
        "plt.title('Data vs Input X')\n",
        "plt.show()\n",
        "\n"
      ],
      "metadata": {
        "colab": {
          "base_uri": "https://localhost:8080/",
          "height": 564
        },
        "id": "joW0VcsU3787",
        "outputId": "3fde69a3-d1bf-4c2d-962e-8d58ed036887"
      },
      "execution_count": null,
      "outputs": [
        {
          "output_type": "stream",
          "name": "stdout",
          "text": [
            "입력 변수와 기존 개체들 간의 유클리드거리 :  [20.04993766  9.89949494 10.          9.89949494 20.04993766]\n",
            "\n",
            "입력 변수의 y_1 :  ['A']\n",
            "\n",
            "입력 변수의 y_2 :  [50.]\n"
          ]
        },
        {
          "output_type": "display_data",
          "data": {
            "text/plain": [
              "<Figure size 640x480 with 1 Axes>"
            ],
            "image/png": "[encoded data removed]"
          },
          "metadata": {}
        }
      ]
    }
  ]
}