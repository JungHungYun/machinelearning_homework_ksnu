{
  "nbformat": 4,
  "nbformat_minor": 0,
  "metadata": {
    "colab": {
      "provenance": [],
      "authorship_tag": "ABX9TyOR8rPV4XO464P+zsvUFujA"
    },
    "kernelspec": {
      "name": "python3",
      "display_name": "Python 3"
    },
    "language_info": {
      "name": "python"
    }
  },
  "cells": [
    {
      "cell_type": "code",
      "execution_count": null,
      "metadata": {
        "colab": {
          "base_uri": "https://localhost:8080/"
        },
        "id": "iOQZ7sTaSNxj",
        "outputId": "34c30a4d-fd2a-491d-e8b3-8e612dd21d6d"
      },
      "outputs": [
        {
          "output_type": "stream",
          "name": "stdout",
          "text": [
            "d =  5.0\n"
          ]
        }
      ],
      "source": [
        "# Chapter 3 연습문제\n",
        "# ※세부 문제에 따라 셀을 나누었습니다.(총 6문제)\n",
        "# 1. 다음 K-평균 군집화 과정에 대한 물음에 답하시오.\n",
        "# (1) 군집 1에 있는 d의 거리를 구하시오 (각 선의 숫자는 거리를 의미)\n",
        "\n",
        "import math\n",
        "\n",
        "A = (10, 15)\n",
        "B = (13, 19)\n",
        "\n",
        "def distance(pointA, pointB):\n",
        "    return math.sqrt((pointA[0] - pointB[0])**2 + (pointA[1] - pointB[1])**2)\n",
        "\n",
        "dist = distance(A, B)\n",
        "print(\"d = \", dist)"
      ]
    },
    {
      "cell_type": "code",
      "source": [
        "# (2) 각 군집의 WSS를 구하고, TWSS를 구하시오.\n",
        "\n",
        "dis_a = [dist, 3, 4]\n",
        "dis_b = [4, 4]\n",
        "\n",
        "mean_a = sum(dis_a) / len(dis_a)\n",
        "mean_b = sum(dis_b) / len(dis_b)\n",
        "\n",
        "wss_a = sum((x - mean_a)**2 for x in dis_a)\n",
        "wss_b = sum((x - mean_b)**2 for x in dis_b)\n",
        "\n",
        "twss = wss_a + wss_b\n",
        "\n",
        "print(\"WSS(dis_a):\", wss_a)\n",
        "print(\"WSS(dis_b):\", wss_b)\n",
        "print(\"TWSS:\", twss)"
      ],
      "metadata": {
        "id": "mMMv7biCVHOW",
        "colab": {
          "base_uri": "https://localhost:8080/"
        },
        "outputId": "175bd62a-0d3c-4a86-f256-32ad782e7818"
      },
      "execution_count": null,
      "outputs": [
        {
          "output_type": "stream",
          "name": "stdout",
          "text": [
            "WSS(dis_a): 2.0\n",
            "WSS(dis_b): 0.0\n",
            "TWSS: 2.0\n"
          ]
        }
      ]
    },
    {
      "cell_type": "code",
      "source": [
        "# (3) K의 변화에 따른 TWSS는 다음과 같다. 군집의 수는 몇 개로 정하면 좋을까?\n",
        "\n",
        "print(\"Elbow method에 의해 기울기가 급격하게 변하는 지점이 K = 4일 경우이므로, K = 4인 것이 적합하다고 판단됨\")"
      ],
      "metadata": {
        "colab": {
          "base_uri": "https://localhost:8080/"
        },
        "id": "vAzUBWQc-rhb",
        "outputId": "46de1cdd-8797-4e20-f122-92ef08e60e22"
      },
      "execution_count": null,
      "outputs": [
        {
          "output_type": "stream",
          "name": "stdout",
          "text": [
            "Elbow method에 의해 기울기가 급격하게 변하는 지점이 K = 4일 경우이므로, K = 4인 것이 적합하다고 판단됨\n"
          ]
        }
      ]
    },
    {
      "cell_type": "code",
      "source": [
        "# 2. 다음 5개의 개체를 두개의 군집(K=2)으로 분류하려고 한다. 다음 물음에 단계적으로 답하시오.\n",
        "\n",
        "#(1) 다음 표의 빈칸을 계산하고, 각 개체를 군집1과 군집2에 할당하시오. 군집1과 군집2의 초기 군집 중심은 각 ID가 1, 2인 개체로 한다.\n",
        "\n",
        "import numpy as np\n",
        "import pandas as pd\n",
        "from sklearn.preprocessing import StandardScaler\n",
        "\n",
        "data = np.array([\n",
        "    [1, 1, 4],\n",
        "    [2, 4, 2],\n",
        "    [3, 3, 7],\n",
        "    [4, 6, 1],\n",
        "    [5, 2, 5]])\n",
        "\n",
        "ID = data[:, 0]\n",
        "X = data[:, 1]\n",
        "Y = data[:, 2]\n",
        "print(f\"ID= \", ID)\n",
        "print(f\"X= \",X)\n",
        "print(f\"Y= \", Y)\n",
        "\n",
        "\n",
        "X_scale = (X - X.mean()) / np.std(X, ddof = 1)\n",
        "Y_scale = (Y - Y.mean()) / np.std(Y, ddof = 1)\n",
        "print(f\"\\nX_scale= \",X_scale)\n",
        "print(f\"Y_scale= \",Y_scale)\n",
        "\n",
        "center_1 = ([X_scale[0], Y_scale[0]])\n",
        "center_2 = ([X_scale[1], Y_scale[1]])\n",
        "print(f\"\\ncenter_1= \",center_1)\n",
        "print(f\"center_2= \",center_2)\n",
        "\n",
        "# 1번 (1) 문제에서 정의한 거리 계산 함수와 구조가 달라서 함수를 호출하지 않았음\n",
        "distance_1 = np.sqrt((X_scale - center_1[0])**2 + (Y_scale - center_1[1])**2)\n",
        "distance_2 = np.sqrt((X_scale - center_2[0])**2 + (Y_scale - center_2[1])**2)\n",
        "print(f\"\\ndistance_1= \",distance_1)\n",
        "print(f\"ddistance_2= \",distance_2)\n",
        "\n",
        "# K = 2일 경우이므로, 두가지로 클러스터를 할당함\n",
        "cluster = np.where(distance_1 < distance_2, 1, 2)\n",
        "print(f\"\\ncluster= \", cluster)\n",
        "\n",
        "#실제 거리\n",
        "orig_distance_1 = np.sqrt((X - X[0])**2 + (Y - Y[0])**2)\n",
        "orig_distance_2 = np.sqrt((X - X[1])**2 + (Y - Y[1])**2)\n",
        "print(f\"\\norig_distance_1= \",orig_distance_1)\n",
        "print(f\"orig_distance_2= \",orig_distance_2)\n",
        "\n",
        "table = np.column_stack((ID, X, Y, X_scale, Y_scale, orig_distance_1, orig_distance_2, cluster))\n",
        "table_answer1 = pd.DataFrame(table, columns=['ID', 'X', 'Y', 'X_scale', 'Y_scale', 'distance_1', 'distance_2', 'cluster'])\n",
        "print(f\"\\n[표1]\\n\", table_answer1)\n",
        "\n"
      ],
      "metadata": {
        "colab": {
          "base_uri": "https://localhost:8080/"
        },
        "id": "qy4qmK4e_PsF",
        "outputId": "5be3cda1-f867-4a48-8a1f-3abec26848bd"
      },
      "execution_count": null,
      "outputs": [
        {
          "output_type": "stream",
          "name": "stdout",
          "text": [
            "ID=  [1 2 3 4 5]\n",
            "X=  [1 4 3 6 2]\n",
            "Y=  [4 2 7 1 5]\n",
            "\n",
            "X_scale=  [-1.14372554  0.4159002  -0.10397505  1.45565069 -0.62385029]\n",
            "Y_scale=  [ 0.08377078 -0.75393703  1.34033251 -1.17279094  0.50262469]\n",
            "\n",
            "center_1=  [-1.14372553880208, 0.08377078165833918]\n",
            "center_2=  [0.41590019592802896, -0.7539370349250518]\n",
            "\n",
            "distance_1=  [0.         1.77036347 1.63095936 2.88716195 0.66761431]\n",
            "ddistance_2=  [1.77036347 0.         2.15783113 1.12094589 1.63095936]\n",
            "\n",
            "cluster=  [1 2 1 2 1]\n",
            "\n",
            "orig_distance_1=  [0.         3.60555128 3.60555128 5.83095189 1.41421356]\n",
            "orig_distance_2=  [3.60555128 0.         5.09901951 2.23606798 3.60555128]\n",
            "\n",
            "[표1]\n",
            "     ID    X    Y   X_scale   Y_scale  distance_1  distance_2  cluster\n",
            "0  1.0  1.0  4.0 -1.143726  0.083771    0.000000    3.605551      1.0\n",
            "1  2.0  4.0  2.0  0.415900 -0.753937    3.605551    0.000000      2.0\n",
            "2  3.0  3.0  7.0 -0.103975  1.340333    3.605551    5.099020      1.0\n",
            "3  4.0  6.0  1.0  1.455651 -1.172791    5.830952    2.236068      2.0\n",
            "4  5.0  2.0  5.0 -0.623850  0.502625    1.414214    3.605551      1.0\n"
          ]
        }
      ]
    },
    {
      "cell_type": "code",
      "source": [
        "# (2) 할당된 군집 1과 군집 2의 중심을 구하시오.\n",
        "\n",
        "# 군집에 할당된 좌표 추출출\n",
        "cluster_1_p = table[table[:, 7] == 1, 1:3]\n",
        "cluster_2_p = table[table[:, 7] == 2, 1:3]\n",
        "\n",
        "print(f\"cluster_1_p\\n\", cluster_1_p)\n",
        "print(f\"\\ncluster_2_p\\n\", cluster_2_p) \n",
        "\n",
        "# 할당된 군집 각각의 중심\n",
        "center_1_new = cluster_1_p.mean(axis=0)\n",
        "center_2_new = cluster_2_p.mean(axis=0)\n",
        "\n",
        "print(f\"\\ncenter_1_new : \", center_1_new)\n",
        "print(f\"center_2_new : \", center_2_new)"
      ],
      "metadata": {
        "colab": {
          "base_uri": "https://localhost:8080/"
        },
        "id": "AEro-Ak703N1",
        "outputId": "3612d13a-cceb-46c9-a7e2-176c0538f163"
      },
      "execution_count": null,
      "outputs": [
        {
          "output_type": "stream",
          "name": "stdout",
          "text": [
            "cluster_1_p\n",
            " [[1. 4.]\n",
            " [3. 7.]\n",
            " [2. 5.]]\n",
            "\n",
            "cluster_2_p\n",
            " [[4. 2.]\n",
            " [6. 1.]]\n",
            "\n",
            "center_1_new :  [2.         5.33333333]\n",
            "center_2_new :  [5.  1.5]\n"
          ]
        }
      ]
    },
    {
      "cell_type": "code",
      "source": [
        "# (3) 각 군집의 WSS와 TWSS를 구하시오.\n",
        "\n",
        "from sklearn.cluster import KMeans\n",
        "\n",
        "data_new = np.column_stack((X, Y))\n",
        "\n",
        "kmeans = KMeans(n_clusters=2).fit(data_new)\n",
        "\n",
        "center_1_new = kmeans.cluster_centers_[0]\n",
        "center_2_new = kmeans.cluster_centers_[1]\n",
        "\n",
        "labels = kmeans.labels_\n",
        "\n",
        "wss_cluster_1 = np.sum((data_new[labels == 0] - center_1_new) ** 2)\n",
        "wss_cluster_2 = np.sum((data_new[labels == 1] - center_2_new) ** 2)\n",
        "twss = wss_cluster_1 + wss_cluster_2\n",
        "\n",
        "print(f\"WSS of cluster 1:\", wss_cluster_1)\n",
        "print(f\"WSS of cluster 2:\", wss_cluster_2)\n",
        "print(f\"TWSS: \", twss)"
      ],
      "metadata": {
        "colab": {
          "base_uri": "https://localhost:8080/"
        },
        "id": "YBtvmJQzql0v",
        "outputId": "fdbf75e6-04d2-4c2d-b5ea-522803026a45"
      },
      "execution_count": null,
      "outputs": [
        {
          "output_type": "stream",
          "name": "stdout",
          "text": [
            "WSS of cluster 1: 6.666666666666666\n",
            "WSS of cluster 2: 2.5\n",
            "TWSS:  9.166666666666666\n"
          ]
        },
        {
          "output_type": "stream",
          "name": "stderr",
          "text": [
            "/usr/local/lib/python3.9/dist-packages/sklearn/cluster/_kmeans.py:870: FutureWarning: The default value of `n_init` will change from 10 to 'auto' in 1.4. Set the value of `n_init` explicitly to suppress the warning\n",
            "  warnings.warn(\n"
          ]
        }
      ]
    }
  ]
}